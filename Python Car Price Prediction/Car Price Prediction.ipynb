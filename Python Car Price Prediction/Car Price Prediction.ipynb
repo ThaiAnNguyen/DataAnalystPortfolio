{
 "cells": [
  {
   "cell_type": "markdown",
   "metadata": {},
   "source": [
    "## Importing file and libraries"
   ]
  },
  {
   "cell_type": "code",
   "execution_count": 211,
   "metadata": {},
   "outputs": [],
   "source": [
    "import pandas as pd\n",
    "import numpy as np\n",
    "import re\n",
    "import matplotlib.pyplot as plt #pip install matplotlib\n",
    "import category_encoders as ce #pip install category_encoders\n",
    "from sklearn.model_selection import train_test_split #pip install scikit-learn\n",
    "from sklearn.linear_model import LinearRegression\n",
    "from sklearn.ensemble import GradientBoostingRegressor\n",
    "from sklearn.ensemble import RandomForestRegressor\n",
    "from sklearn.model_selection import cross_val_score\n",
    "from sklearn.metrics import make_scorer\n",
    "from sklearn.metrics import mean_absolute_error, mean_squared_error, r2_score\n",
    "from sklearn.model_selection import learning_curve\n",
    "import ipywidgets as widgets #pip install ipywidgets\n",
    "from IPython.display import display, clear_output #pip install ipython\n",
    "import warnings \n",
    "warnings.filterwarnings('ignore')"
   ]
  },
  {
   "cell_type": "code",
   "execution_count": 212,
   "metadata": {},
   "outputs": [],
   "source": [
    "df = pd.read_csv('car_detail_en.csv')"
   ]
  },
  {
   "cell_type": "code",
   "execution_count": 213,
   "metadata": {},
   "outputs": [
    {
     "data": {
      "text/html": [
       "<div>\n",
       "<style scoped>\n",
       "    .dataframe tbody tr th:only-of-type {\n",
       "        vertical-align: middle;\n",
       "    }\n",
       "\n",
       "    .dataframe tbody tr th {\n",
       "        vertical-align: top;\n",
       "    }\n",
       "\n",
       "    .dataframe thead th {\n",
       "        text-align: right;\n",
       "    }\n",
       "</style>\n",
       "<table border=\"1\" class=\"dataframe\">\n",
       "  <thead>\n",
       "    <tr style=\"text-align: right;\">\n",
       "      <th></th>\n",
       "      <th>ad_id</th>\n",
       "      <th>origin</th>\n",
       "      <th>condition</th>\n",
       "      <th>car_model</th>\n",
       "      <th>mileage</th>\n",
       "      <th>exterior_color</th>\n",
       "      <th>interior_color</th>\n",
       "      <th>num_of_doors</th>\n",
       "      <th>seating_capacity</th>\n",
       "      <th>engine</th>\n",
       "      <th>...</th>\n",
       "      <th>transmission</th>\n",
       "      <th>drive_type</th>\n",
       "      <th>fuel_consumption</th>\n",
       "      <th>describe</th>\n",
       "      <th>brand</th>\n",
       "      <th>grade</th>\n",
       "      <th>year_of_manufacture</th>\n",
       "      <th>car_name</th>\n",
       "      <th>price. price</th>\n",
       "      <th>url</th>\n",
       "    </tr>\n",
       "  </thead>\n",
       "  <tbody>\n",
       "    <tr>\n",
       "      <th>0</th>\n",
       "      <td>17042</td>\n",
       "      <td>Domestic assembly</td>\n",
       "      <td>New car</td>\n",
       "      <td>Truck</td>\n",
       "      <td>0 Km</td>\n",
       "      <td>White</td>\n",
       "      <td>gray</td>\n",
       "      <td>2-door</td>\n",
       "      <td>2-seat</td>\n",
       "      <td>Petrol\\t1.0 L</td>\n",
       "      <td>...</td>\n",
       "      <td>Manual</td>\n",
       "      <td>RFD - Rear-wheel drive</td>\n",
       "      <td>L/100Km</td>\n",
       "      <td>Super Carry Truck 5-pound mezzanine is equipp...</td>\n",
       "      <td>Suzuki</td>\n",
       "      <td>Super Carry Truck</td>\n",
       "      <td>2022.0</td>\n",
       "      <td>Suzuki Super Carry Truck 1.0 MT 2022</td>\n",
       "      <td>249 Million</td>\n",
       "      <td>https://bonbanh.com/xe-suzuki-super_carry_truc...</td>\n",
       "    </tr>\n",
       "    <tr>\n",
       "      <th>1</th>\n",
       "      <td>53794</td>\n",
       "      <td>Imported</td>\n",
       "      <td>New car</td>\n",
       "      <td>SUV</td>\n",
       "      <td>0 Km</td>\n",
       "      <td>Black</td>\n",
       "      <td>Black</td>\n",
       "      <td>5-door</td>\n",
       "      <td>7-seat</td>\n",
       "      <td>Petrol\\t3.4 L</td>\n",
       "      <td>...</td>\n",
       "      <td>Automatic</td>\n",
       "      <td>AWD - 4-wheel drive (AWD)</td>\n",
       "      <td>10\\tL/100Km</td>\n",
       "      <td>New Toyota LANDCRUISER 300, imported from Japa...</td>\n",
       "      <td>Toyota</td>\n",
       "      <td>Land Cruiser</td>\n",
       "      <td>2022.0</td>\n",
       "      <td>Toyota Land Cruiser 3.5 V6 2022</td>\n",
       "      <td>4 Billion 286 Million</td>\n",
       "      <td>https://bonbanh.com/xe-toyota-land_cruiser-3.5...</td>\n",
       "    </tr>\n",
       "    <tr>\n",
       "      <th>2</th>\n",
       "      <td>73954</td>\n",
       "      <td>Domestic assembly</td>\n",
       "      <td>New car</td>\n",
       "      <td>Crossover</td>\n",
       "      <td>0 Km</td>\n",
       "      <td>Silver</td>\n",
       "      <td>Brown</td>\n",
       "      <td>5-door</td>\n",
       "      <td>8-seat</td>\n",
       "      <td>Petrol\\t2.0 L</td>\n",
       "      <td>...</td>\n",
       "      <td>Automatic</td>\n",
       "      <td>RFD - Rear-wheel drive</td>\n",
       "      <td>L/100Km</td>\n",
       "      <td>**Registration fee support worth 15 million VN...</td>\n",
       "      <td>Toyota</td>\n",
       "      <td>Innova</td>\n",
       "      <td>2023.0</td>\n",
       "      <td>Toyota Innova G 2.0 AT 2023 car</td>\n",
       "      <td>885 Million</td>\n",
       "      <td>https://bonbanh.com/xe-toyota-innova-g-2.0-at-...</td>\n",
       "    </tr>\n",
       "    <tr>\n",
       "      <th>3</th>\n",
       "      <td>74150</td>\n",
       "      <td>Imported</td>\n",
       "      <td>New car</td>\n",
       "      <td>SUV</td>\n",
       "      <td>0 Km</td>\n",
       "      <td>White</td>\n",
       "      <td>Black</td>\n",
       "      <td>5-door</td>\n",
       "      <td>5-seat</td>\n",
       "      <td>Petrol\\t1.8 L</td>\n",
       "      <td>...</td>\n",
       "      <td>Automatic</td>\n",
       "      <td>FWD - Front-wheel drive</td>\n",
       "      <td>L/100Km</td>\n",
       "      <td>2 interior colors: black, red brown - Car ava...</td>\n",
       "      <td>Toyota</td>\n",
       "      <td>Corolla Cross</td>\n",
       "      <td>2023.0</td>\n",
       "      <td>Toyota Corolla Cross 1.8G 2023</td>\n",
       "      <td>754 Million</td>\n",
       "      <td>https://bonbanh.com/xe-toyota-corolla_cross-1....</td>\n",
       "    </tr>\n",
       "    <tr>\n",
       "      <th>4</th>\n",
       "      <td>87573</td>\n",
       "      <td>Domestic assembly</td>\n",
       "      <td>New car</td>\n",
       "      <td>Crossover</td>\n",
       "      <td>0 Km</td>\n",
       "      <td>Silver</td>\n",
       "      <td>gray</td>\n",
       "      <td>5-door</td>\n",
       "      <td>8-seat</td>\n",
       "      <td>Petrol\\t2.0 L</td>\n",
       "      <td>...</td>\n",
       "      <td>Automatic</td>\n",
       "      <td>RFD - Rear-wheel drive</td>\n",
       "      <td>L/100Km</td>\n",
       "      <td>Toyota Innova G 100% new Equipped with 2.0 eng...</td>\n",
       "      <td>Toyota</td>\n",
       "      <td>Innova</td>\n",
       "      <td>2022.0</td>\n",
       "      <td>Toyota Innova G 2.0 AT 2022 car</td>\n",
       "      <td>850 Million</td>\n",
       "      <td>https://bonbanh.com/xe-toyota-innova-g-2.0-at-...</td>\n",
       "    </tr>\n",
       "  </tbody>\n",
       "</table>\n",
       "<p>5 rows × 21 columns</p>\n",
       "</div>"
      ],
      "text/plain": [
       "   ad_id             origin condition  car_model mileage exterior_color   \n",
       "0  17042  Domestic assembly   New car      Truck    0 Km          White  \\\n",
       "1  53794           Imported   New car        SUV    0 Km          Black   \n",
       "2  73954  Domestic assembly   New car  Crossover    0 Km         Silver   \n",
       "3  74150           Imported   New car        SUV    0 Km          White   \n",
       "4  87573  Domestic assembly   New car  Crossover    0 Km         Silver   \n",
       "\n",
       "  interior_color num_of_doors seating_capacity         engine  ...   \n",
       "0           gray       2-door           2-seat  Petrol\\t1.0 L  ...  \\\n",
       "1          Black       5-door           7-seat  Petrol\\t3.4 L  ...   \n",
       "2          Brown       5-door           8-seat  Petrol\\t2.0 L  ...   \n",
       "3          Black       5-door           5-seat  Petrol\\t1.8 L  ...   \n",
       "4           gray       5-door           8-seat  Petrol\\t2.0 L  ...   \n",
       "\n",
       "  transmission                 drive_type fuel_consumption   \n",
       "0       Manual     RFD - Rear-wheel drive          L/100Km  \\\n",
       "1    Automatic  AWD - 4-wheel drive (AWD)      10\\tL/100Km   \n",
       "2    Automatic     RFD - Rear-wheel drive          L/100Km   \n",
       "3    Automatic    FWD - Front-wheel drive          L/100Km   \n",
       "4    Automatic     RFD - Rear-wheel drive          L/100Km   \n",
       "\n",
       "                                            describe   brand   \n",
       "0   Super Carry Truck 5-pound mezzanine is equipp...  Suzuki  \\\n",
       "1  New Toyota LANDCRUISER 300, imported from Japa...  Toyota   \n",
       "2  **Registration fee support worth 15 million VN...  Toyota   \n",
       "3   2 interior colors: black, red brown - Car ava...  Toyota   \n",
       "4  Toyota Innova G 100% new Equipped with 2.0 eng...  Toyota   \n",
       "\n",
       "               grade year_of_manufacture   \n",
       "0  Super Carry Truck              2022.0  \\\n",
       "1       Land Cruiser              2022.0   \n",
       "2             Innova              2023.0   \n",
       "3      Corolla Cross              2023.0   \n",
       "4             Innova              2022.0   \n",
       "\n",
       "                               car_name           price. price   \n",
       "0  Suzuki Super Carry Truck 1.0 MT 2022            249 Million  \\\n",
       "1       Toyota Land Cruiser 3.5 V6 2022  4 Billion 286 Million   \n",
       "2       Toyota Innova G 2.0 AT 2023 car            885 Million   \n",
       "3        Toyota Corolla Cross 1.8G 2023            754 Million   \n",
       "4       Toyota Innova G 2.0 AT 2022 car            850 Million   \n",
       "\n",
       "                                                 url  \n",
       "0  https://bonbanh.com/xe-suzuki-super_carry_truc...  \n",
       "1  https://bonbanh.com/xe-toyota-land_cruiser-3.5...  \n",
       "2  https://bonbanh.com/xe-toyota-innova-g-2.0-at-...  \n",
       "3  https://bonbanh.com/xe-toyota-corolla_cross-1....  \n",
       "4  https://bonbanh.com/xe-toyota-innova-g-2.0-at-...  \n",
       "\n",
       "[5 rows x 21 columns]"
      ]
     },
     "execution_count": 213,
     "metadata": {},
     "output_type": "execute_result"
    }
   ],
   "source": [
    "df.head()"
   ]
  },
  {
   "cell_type": "code",
   "execution_count": 214,
   "metadata": {},
   "outputs": [
    {
     "data": {
      "text/plain": [
       "(30652, 21)"
      ]
     },
     "execution_count": 214,
     "metadata": {},
     "output_type": "execute_result"
    }
   ],
   "source": [
    "df.shape"
   ]
  },
  {
   "cell_type": "code",
   "execution_count": 215,
   "metadata": {},
   "outputs": [
    {
     "data": {
      "text/plain": [
       "ad_id                      0\n",
       "origin                     0\n",
       "condition                  0\n",
       "car_model                  0\n",
       "mileage                    0\n",
       "exterior_color             0\n",
       "interior_color             0\n",
       "num_of_doors               0\n",
       "seating_capacity           0\n",
       "engine                     0\n",
       "fuel_system            23910\n",
       "transmission               0\n",
       "drive_type                 0\n",
       "fuel_consumption           0\n",
       "describe                   0\n",
       "brand                      0\n",
       "grade                      0\n",
       "year_of_manufacture       32\n",
       "car_name                   0\n",
       "price. price               0\n",
       "url                        0\n",
       "dtype: int64"
      ]
     },
     "execution_count": 215,
     "metadata": {},
     "output_type": "execute_result"
    }
   ],
   "source": [
    "df.isna().sum() # Column 'fuel_system' has too many null values"
   ]
  },
  {
   "cell_type": "code",
   "execution_count": 216,
   "metadata": {},
   "outputs": [
    {
     "data": {
      "text/plain": [
       "ad_id                  30652\n",
       "origin                     2\n",
       "condition                  2\n",
       "car_model                 10\n",
       "mileage                 1924\n",
       "exterior_color            18\n",
       "interior_color            18\n",
       "num_of_doors              12\n",
       "seating_capacity          24\n",
       "engine                    95\n",
       "fuel_system              802\n",
       "transmission               4\n",
       "drive_type                 6\n",
       "fuel_consumption          76\n",
       "describe               28987\n",
       "brand                     76\n",
       "grade                    479\n",
       "year_of_manufacture       34\n",
       "car_name                5809\n",
       "price. price            2206\n",
       "url                    30652\n",
       "dtype: int64"
      ]
     },
     "execution_count": 216,
     "metadata": {},
     "output_type": "execute_result"
    }
   ],
   "source": [
    "df.nunique()"
   ]
  },
  {
   "cell_type": "code",
   "execution_count": 217,
   "metadata": {},
   "outputs": [
    {
     "data": {
      "text/plain": [
       "(19215, 21)"
      ]
     },
     "execution_count": 217,
     "metadata": {},
     "output_type": "execute_result"
    }
   ],
   "source": [
    "df.loc[df['fuel_consumption'] == 'L/100Km'].shape # Column 'fuel_consumption' has too many missing values"
   ]
  },
  {
   "cell_type": "code",
   "execution_count": 218,
   "metadata": {},
   "outputs": [],
   "source": [
    "# Remove unused columns\n",
    "df.drop(columns=['ad_id', 'exterior_color', 'interior_color', 'fuel_system', 'fuel_consumption', 'describe', 'grade', 'car_name', 'url'], inplace=True)"
   ]
  },
  {
   "cell_type": "code",
   "execution_count": 219,
   "metadata": {},
   "outputs": [],
   "source": [
    "# Remove missing data\n",
    "df=df.dropna()"
   ]
  },
  {
   "cell_type": "code",
   "execution_count": 220,
   "metadata": {},
   "outputs": [
    {
     "data": {
      "text/html": [
       "<div>\n",
       "<style scoped>\n",
       "    .dataframe tbody tr th:only-of-type {\n",
       "        vertical-align: middle;\n",
       "    }\n",
       "\n",
       "    .dataframe tbody tr th {\n",
       "        vertical-align: top;\n",
       "    }\n",
       "\n",
       "    .dataframe thead th {\n",
       "        text-align: right;\n",
       "    }\n",
       "</style>\n",
       "<table border=\"1\" class=\"dataframe\">\n",
       "  <thead>\n",
       "    <tr style=\"text-align: right;\">\n",
       "      <th></th>\n",
       "      <th>origin</th>\n",
       "      <th>condition</th>\n",
       "      <th>car_model</th>\n",
       "      <th>mileage</th>\n",
       "      <th>num_of_doors</th>\n",
       "      <th>seating_capacity</th>\n",
       "      <th>engine</th>\n",
       "      <th>transmission</th>\n",
       "      <th>drive_type</th>\n",
       "      <th>brand</th>\n",
       "      <th>year_of_manufacture</th>\n",
       "      <th>price. price</th>\n",
       "    </tr>\n",
       "  </thead>\n",
       "  <tbody>\n",
       "    <tr>\n",
       "      <th>15514</th>\n",
       "      <td>Domestic assembly</td>\n",
       "      <td>Used car</td>\n",
       "      <td>SUV</td>\n",
       "      <td>30,000 Km</td>\n",
       "      <td>5-door</td>\n",
       "      <td>5-seat</td>\n",
       "      <td>Petrol\\t2.0 L</td>\n",
       "      <td>Automatic</td>\n",
       "      <td>FWD - Front-wheel drive</td>\n",
       "      <td>Mazda</td>\n",
       "      <td>2020.0</td>\n",
       "      <td>770 Million</td>\n",
       "    </tr>\n",
       "    <tr>\n",
       "      <th>14357</th>\n",
       "      <td>Imported</td>\n",
       "      <td>Used car</td>\n",
       "      <td>Sedan</td>\n",
       "      <td>19,000 Km</td>\n",
       "      <td>4-door</td>\n",
       "      <td>5-seat</td>\n",
       "      <td>Petrol\\t2.0 L</td>\n",
       "      <td>Automatic</td>\n",
       "      <td>RFD - Rear-wheel drive</td>\n",
       "      <td>BMW</td>\n",
       "      <td>2020.0</td>\n",
       "      <td>Billion 900 Million</td>\n",
       "    </tr>\n",
       "    <tr>\n",
       "      <th>29281</th>\n",
       "      <td>Imported</td>\n",
       "      <td>Used car</td>\n",
       "      <td>SUV</td>\n",
       "      <td>46,000 Km</td>\n",
       "      <td>5-door</td>\n",
       "      <td>7-seat</td>\n",
       "      <td>Petrol</td>\n",
       "      <td>Automatic</td>\n",
       "      <td>FWD - Front-wheel drive</td>\n",
       "      <td>Honda</td>\n",
       "      <td>2019.0</td>\n",
       "      <td>868 Million</td>\n",
       "    </tr>\n",
       "    <tr>\n",
       "      <th>21264</th>\n",
       "      <td>Domestic assembly</td>\n",
       "      <td>Used car</td>\n",
       "      <td>SUV</td>\n",
       "      <td>0 Km</td>\n",
       "      <td>5-door</td>\n",
       "      <td>5-seat</td>\n",
       "      <td>Petrol\\t2.0 L</td>\n",
       "      <td>Automatic</td>\n",
       "      <td>FWD - Front-wheel drive</td>\n",
       "      <td>Mazda</td>\n",
       "      <td>2020.0</td>\n",
       "      <td>695 Million</td>\n",
       "    </tr>\n",
       "    <tr>\n",
       "      <th>9541</th>\n",
       "      <td>Imported</td>\n",
       "      <td>Used car</td>\n",
       "      <td>Bán tải / Pickup</td>\n",
       "      <td>90,000 Km</td>\n",
       "      <td>4-door</td>\n",
       "      <td>5-seat</td>\n",
       "      <td>Diesel\\t2.5 L</td>\n",
       "      <td>Automatic</td>\n",
       "      <td>RFD - Rear-wheel drive</td>\n",
       "      <td>Chevrolet</td>\n",
       "      <td>2018.0</td>\n",
       "      <td>485 Million</td>\n",
       "    </tr>\n",
       "  </tbody>\n",
       "</table>\n",
       "</div>"
      ],
      "text/plain": [
       "                  origin condition           car_model    mileage   \n",
       "15514  Domestic assembly  Used car                 SUV  30,000 Km  \\\n",
       "14357           Imported  Used car               Sedan  19,000 Km   \n",
       "29281           Imported  Used car                 SUV  46,000 Km   \n",
       "21264  Domestic assembly  Used car                 SUV       0 Km   \n",
       "9541            Imported  Used car  Bán tải / Pickup  90,000 Km   \n",
       "\n",
       "      num_of_doors seating_capacity         engine transmission   \n",
       "15514       5-door           5-seat  Petrol\\t2.0 L    Automatic  \\\n",
       "14357       4-door           5-seat  Petrol\\t2.0 L    Automatic   \n",
       "29281       5-door           7-seat         Petrol    Automatic   \n",
       "21264       5-door           5-seat  Petrol\\t2.0 L    Automatic   \n",
       "9541        4-door           5-seat  Diesel\\t2.5 L    Automatic   \n",
       "\n",
       "                    drive_type      brand  year_of_manufacture   \n",
       "15514  FWD - Front-wheel drive      Mazda               2020.0  \\\n",
       "14357   RFD - Rear-wheel drive        BMW               2020.0   \n",
       "29281  FWD - Front-wheel drive      Honda               2019.0   \n",
       "21264  FWD - Front-wheel drive      Mazda               2020.0   \n",
       "9541    RFD - Rear-wheel drive  Chevrolet               2018.0   \n",
       "\n",
       "              price. price  \n",
       "15514          770 Million  \n",
       "14357  Billion 900 Million  \n",
       "29281          868 Million  \n",
       "21264          695 Million  \n",
       "9541           485 Million  "
      ]
     },
     "execution_count": 220,
     "metadata": {},
     "output_type": "execute_result"
    }
   ],
   "source": [
    "df.sample(5)"
   ]
  },
  {
   "cell_type": "markdown",
   "metadata": {},
   "source": [
    "## Preprocessing:"
   ]
  },
  {
   "cell_type": "markdown",
   "metadata": {},
   "source": [
    "- 'car_model': Clean 'Bán tải / Pickup'\n",
    "- 'mileage': remove ',' and 'Km', convert to int\n",
    "- 'num_of_doors': remove '-door' and outliers (>7), convert to int\n",
    "- 'seating_capacity': remove '-seat' and outlier(1), convert to int\n",
    "- 'engine': split into 'engine_type' and 'engine_capacity' (convert to int)\n",
    "- 'transmission': remove '-' values\n",
    "- 'drive_type': remove '-' values\n",
    "- 'year_of_manufacture': remove '.', convert to int\n",
    "- 'price. price': rename, convert to int, remove outliers"
   ]
  },
  {
   "cell_type": "code",
   "execution_count": 221,
   "metadata": {},
   "outputs": [],
   "source": [
    "# Remove 'Bán tải / ' suffix from the 'car_model' column\n",
    "df['car_model'] = df['car_model'].str.replace('Bán tải / ', '')\n"
   ]
  },
  {
   "cell_type": "code",
   "execution_count": 222,
   "metadata": {},
   "outputs": [],
   "source": [
    "# Remove any space, comma and 'Km' suffix from the 'mileage' column\n",
    "df['mileage'] = df['mileage'].str.replace(' ', '').str.replace(',', '').str.replace('Km', '')\n",
    "\n",
    "# Convert the 'mileage' column to integer\n",
    "df['mileage'] = pd.to_numeric(df['mileage'], errors='coerce')\n",
    "\n",
    "# Rename the column to 'mileage_in_km'\n",
    "df.rename(columns={'mileage': 'mileage_in_km'}, inplace=True)"
   ]
  },
  {
   "cell_type": "code",
   "execution_count": 223,
   "metadata": {},
   "outputs": [],
   "source": [
    "# Strip spaces, remove '-door' from the 'num_of_doors' column and convert to integer\n",
    "df['num_of_doors'] = df['num_of_doors'].str.strip().str.replace('-door', '').astype(int)\n",
    "\n",
    "# Remove unreasonable values\n",
    "df = df[df['num_of_doors'] <= 7]"
   ]
  },
  {
   "cell_type": "code",
   "execution_count": 224,
   "metadata": {},
   "outputs": [],
   "source": [
    "# Strip spaces, remove '-seat' from the 'seating_capacity' column and convert to integer\n",
    "df['seating_capacity'] = df['seating_capacity'].str.strip().str.replace('-seat', '').astype(int)"
   ]
  },
  {
   "cell_type": "code",
   "execution_count": 225,
   "metadata": {},
   "outputs": [],
   "source": [
    "# Split the 'engine' column into two columns: 'engine_type' and 'engine_capacity_in_litre'\n",
    "df[['engine_type', 'engine_capacity_in_litre']] = df['engine'].str.split('\\t', expand=True)\n",
    "\n",
    "# Remove the ' L' suffix from the 'engine_capacity_in_litre' column\n",
    "df['engine_capacity_in_litre'] = df['engine_capacity_in_litre'].str.replace(' L', '')\n",
    "\n",
    "# Convert 'engine_capacity_in_litre' to float\n",
    "df['engine_capacity_in_litre'] = df['engine_capacity_in_litre'].astype(float)"
   ]
  },
  {
   "cell_type": "code",
   "execution_count": 226,
   "metadata": {},
   "outputs": [],
   "source": [
    "# Convert '-' values to nulls\n",
    "df['transmission'] = np.where(df['transmission'] == '-', np.nan, df['transmission'])"
   ]
  },
  {
   "cell_type": "code",
   "execution_count": 227,
   "metadata": {},
   "outputs": [],
   "source": [
    "# Remove everything after and including '-' in the 'drive_type' column\n",
    "df['drive_type'] = df['drive_type'].str.split(' - ').str[0]\n",
    "\n",
    "# Convert '-' values to nulls\n",
    "df['drive_type'] = np.where(df['drive_type'] == '-', np.nan, df['drive_type'])\n",
    "\n",
    "# Replace 'RFD' with 'RWD'\n",
    "df['drive_type'] = df['drive_type'].replace('RFD', 'RWD')"
   ]
  },
  {
   "cell_type": "code",
   "execution_count": 228,
   "metadata": {},
   "outputs": [],
   "source": [
    "# Convert 'year_of_manufacture' column to int\n",
    "df['year_of_manufacture'] = df['year_of_manufacture'].astype(int)"
   ]
  },
  {
   "cell_type": "code",
   "execution_count": 229,
   "metadata": {},
   "outputs": [],
   "source": [
    "# Rename the column to 'price'\n",
    "df.rename(columns={'price. price': 'price'}, inplace=True)\n",
    "\n",
    "# Clean and convert the 'price' column\n",
    "df['price'] = df['price'].apply(lambda x: re.sub(r'[^\\d.]', '', x)).astype(int)\n",
    "df['price'] = df['price'] * 1e6"
   ]
  },
  {
   "cell_type": "code",
   "execution_count": 230,
   "metadata": {},
   "outputs": [
    {
     "data": {
      "text/plain": [
       "origin                         0\n",
       "condition                      0\n",
       "car_model                      0\n",
       "mileage_in_km                  0\n",
       "num_of_doors                   0\n",
       "seating_capacity               0\n",
       "engine                         0\n",
       "transmission                  15\n",
       "drive_type                   107\n",
       "brand                          0\n",
       "year_of_manufacture            0\n",
       "price                          0\n",
       "engine_type                    0\n",
       "engine_capacity_in_litre    1356\n",
       "dtype: int64"
      ]
     },
     "execution_count": 230,
     "metadata": {},
     "output_type": "execute_result"
    }
   ],
   "source": [
    "df.isnull().sum()"
   ]
  },
  {
   "cell_type": "code",
   "execution_count": 231,
   "metadata": {},
   "outputs": [],
   "source": [
    "# Drop unused column and missing values\n",
    "df.drop('engine', axis=1, inplace=True)\n",
    "df.dropna(inplace=True)"
   ]
  },
  {
   "cell_type": "code",
   "execution_count": 232,
   "metadata": {},
   "outputs": [
    {
     "data": {
      "text/html": [
       "<div>\n",
       "<style scoped>\n",
       "    .dataframe tbody tr th:only-of-type {\n",
       "        vertical-align: middle;\n",
       "    }\n",
       "\n",
       "    .dataframe tbody tr th {\n",
       "        vertical-align: top;\n",
       "    }\n",
       "\n",
       "    .dataframe thead th {\n",
       "        text-align: right;\n",
       "    }\n",
       "</style>\n",
       "<table border=\"1\" class=\"dataframe\">\n",
       "  <thead>\n",
       "    <tr style=\"text-align: right;\">\n",
       "      <th></th>\n",
       "      <th>origin</th>\n",
       "      <th>condition</th>\n",
       "      <th>car_model</th>\n",
       "      <th>mileage_in_km</th>\n",
       "      <th>num_of_doors</th>\n",
       "      <th>seating_capacity</th>\n",
       "      <th>transmission</th>\n",
       "      <th>drive_type</th>\n",
       "      <th>brand</th>\n",
       "      <th>year_of_manufacture</th>\n",
       "      <th>price</th>\n",
       "      <th>engine_type</th>\n",
       "      <th>engine_capacity_in_litre</th>\n",
       "    </tr>\n",
       "  </thead>\n",
       "  <tbody>\n",
       "    <tr>\n",
       "      <th>0</th>\n",
       "      <td>Domestic assembly</td>\n",
       "      <td>New car</td>\n",
       "      <td>Truck</td>\n",
       "      <td>0</td>\n",
       "      <td>2</td>\n",
       "      <td>2</td>\n",
       "      <td>Manual</td>\n",
       "      <td>RWD</td>\n",
       "      <td>Suzuki</td>\n",
       "      <td>2022</td>\n",
       "      <td>2.490000e+08</td>\n",
       "      <td>Petrol</td>\n",
       "      <td>1.0</td>\n",
       "    </tr>\n",
       "    <tr>\n",
       "      <th>1</th>\n",
       "      <td>Imported</td>\n",
       "      <td>New car</td>\n",
       "      <td>SUV</td>\n",
       "      <td>0</td>\n",
       "      <td>5</td>\n",
       "      <td>7</td>\n",
       "      <td>Automatic</td>\n",
       "      <td>AWD</td>\n",
       "      <td>Toyota</td>\n",
       "      <td>2022</td>\n",
       "      <td>4.286000e+09</td>\n",
       "      <td>Petrol</td>\n",
       "      <td>3.4</td>\n",
       "    </tr>\n",
       "    <tr>\n",
       "      <th>2</th>\n",
       "      <td>Domestic assembly</td>\n",
       "      <td>New car</td>\n",
       "      <td>Crossover</td>\n",
       "      <td>0</td>\n",
       "      <td>5</td>\n",
       "      <td>8</td>\n",
       "      <td>Automatic</td>\n",
       "      <td>RWD</td>\n",
       "      <td>Toyota</td>\n",
       "      <td>2023</td>\n",
       "      <td>8.850000e+08</td>\n",
       "      <td>Petrol</td>\n",
       "      <td>2.0</td>\n",
       "    </tr>\n",
       "    <tr>\n",
       "      <th>3</th>\n",
       "      <td>Imported</td>\n",
       "      <td>New car</td>\n",
       "      <td>SUV</td>\n",
       "      <td>0</td>\n",
       "      <td>5</td>\n",
       "      <td>5</td>\n",
       "      <td>Automatic</td>\n",
       "      <td>FWD</td>\n",
       "      <td>Toyota</td>\n",
       "      <td>2023</td>\n",
       "      <td>7.540000e+08</td>\n",
       "      <td>Petrol</td>\n",
       "      <td>1.8</td>\n",
       "    </tr>\n",
       "    <tr>\n",
       "      <th>4</th>\n",
       "      <td>Domestic assembly</td>\n",
       "      <td>New car</td>\n",
       "      <td>Crossover</td>\n",
       "      <td>0</td>\n",
       "      <td>5</td>\n",
       "      <td>8</td>\n",
       "      <td>Automatic</td>\n",
       "      <td>RWD</td>\n",
       "      <td>Toyota</td>\n",
       "      <td>2022</td>\n",
       "      <td>8.500000e+08</td>\n",
       "      <td>Petrol</td>\n",
       "      <td>2.0</td>\n",
       "    </tr>\n",
       "  </tbody>\n",
       "</table>\n",
       "</div>"
      ],
      "text/plain": [
       "              origin condition  car_model  mileage_in_km  num_of_doors   \n",
       "0  Domestic assembly   New car      Truck              0             2  \\\n",
       "1           Imported   New car        SUV              0             5   \n",
       "2  Domestic assembly   New car  Crossover              0             5   \n",
       "3           Imported   New car        SUV              0             5   \n",
       "4  Domestic assembly   New car  Crossover              0             5   \n",
       "\n",
       "   seating_capacity transmission drive_type   brand  year_of_manufacture   \n",
       "0                 2       Manual        RWD  Suzuki                 2022  \\\n",
       "1                 7    Automatic        AWD  Toyota                 2022   \n",
       "2                 8    Automatic        RWD  Toyota                 2023   \n",
       "3                 5    Automatic        FWD  Toyota                 2023   \n",
       "4                 8    Automatic        RWD  Toyota                 2022   \n",
       "\n",
       "          price engine_type  engine_capacity_in_litre  \n",
       "0  2.490000e+08      Petrol                       1.0  \n",
       "1  4.286000e+09      Petrol                       3.4  \n",
       "2  8.850000e+08      Petrol                       2.0  \n",
       "3  7.540000e+08      Petrol                       1.8  \n",
       "4  8.500000e+08      Petrol                       2.0  "
      ]
     },
     "execution_count": 232,
     "metadata": {},
     "output_type": "execute_result"
    }
   ],
   "source": [
    "df.head()"
   ]
  },
  {
   "cell_type": "code",
   "execution_count": 233,
   "metadata": {},
   "outputs": [
    {
     "data": {
      "text/plain": [
       "(29256, 13)"
      ]
     },
     "execution_count": 233,
     "metadata": {},
     "output_type": "execute_result"
    }
   ],
   "source": [
    "df.shape"
   ]
  },
  {
   "cell_type": "markdown",
   "metadata": {},
   "source": [
    "### Remove Outliers"
   ]
  },
  {
   "cell_type": "code",
   "execution_count": 234,
   "metadata": {},
   "outputs": [
    {
     "data": {
      "text/html": [
       "<div>\n",
       "<style scoped>\n",
       "    .dataframe tbody tr th:only-of-type {\n",
       "        vertical-align: middle;\n",
       "    }\n",
       "\n",
       "    .dataframe tbody tr th {\n",
       "        vertical-align: top;\n",
       "    }\n",
       "\n",
       "    .dataframe thead th {\n",
       "        text-align: right;\n",
       "    }\n",
       "</style>\n",
       "<table border=\"1\" class=\"dataframe\">\n",
       "  <thead>\n",
       "    <tr style=\"text-align: right;\">\n",
       "      <th></th>\n",
       "      <th>mileage_in_km</th>\n",
       "      <th>num_of_doors</th>\n",
       "      <th>seating_capacity</th>\n",
       "      <th>year_of_manufacture</th>\n",
       "      <th>price</th>\n",
       "      <th>engine_capacity_in_litre</th>\n",
       "    </tr>\n",
       "  </thead>\n",
       "  <tbody>\n",
       "    <tr>\n",
       "      <th>count</th>\n",
       "      <td>2.925600e+04</td>\n",
       "      <td>29256.000000</td>\n",
       "      <td>29256.000000</td>\n",
       "      <td>29256.000000</td>\n",
       "      <td>2.925600e+04</td>\n",
       "      <td>29256.000000</td>\n",
       "    </tr>\n",
       "    <tr>\n",
       "      <th>mean</th>\n",
       "      <td>4.197632e+05</td>\n",
       "      <td>4.533292</td>\n",
       "      <td>5.563748</td>\n",
       "      <td>2017.337298</td>\n",
       "      <td>1.083511e+09</td>\n",
       "      <td>2.046331</td>\n",
       "    </tr>\n",
       "    <tr>\n",
       "      <th>std</th>\n",
       "      <td>3.569228e+07</td>\n",
       "      <td>0.566711</td>\n",
       "      <td>1.342304</td>\n",
       "      <td>5.302394</td>\n",
       "      <td>1.814673e+09</td>\n",
       "      <td>0.816242</td>\n",
       "    </tr>\n",
       "    <tr>\n",
       "      <th>min</th>\n",
       "      <td>0.000000e+00</td>\n",
       "      <td>1.000000</td>\n",
       "      <td>2.000000</td>\n",
       "      <td>1990.000000</td>\n",
       "      <td>1.000000e+06</td>\n",
       "      <td>0.100000</td>\n",
       "    </tr>\n",
       "    <tr>\n",
       "      <th>25%</th>\n",
       "      <td>0.000000e+00</td>\n",
       "      <td>4.000000</td>\n",
       "      <td>5.000000</td>\n",
       "      <td>2015.000000</td>\n",
       "      <td>3.800000e+08</td>\n",
       "      <td>1.500000</td>\n",
       "    </tr>\n",
       "    <tr>\n",
       "      <th>50%</th>\n",
       "      <td>2.000000e+04</td>\n",
       "      <td>5.000000</td>\n",
       "      <td>5.000000</td>\n",
       "      <td>2019.000000</td>\n",
       "      <td>5.890000e+08</td>\n",
       "      <td>2.000000</td>\n",
       "    </tr>\n",
       "    <tr>\n",
       "      <th>75%</th>\n",
       "      <td>6.000000e+04</td>\n",
       "      <td>5.000000</td>\n",
       "      <td>7.000000</td>\n",
       "      <td>2022.000000</td>\n",
       "      <td>9.190000e+08</td>\n",
       "      <td>2.400000</td>\n",
       "    </tr>\n",
       "    <tr>\n",
       "      <th>max</th>\n",
       "      <td>4.294967e+09</td>\n",
       "      <td>7.000000</td>\n",
       "      <td>29.000000</td>\n",
       "      <td>2023.000000</td>\n",
       "      <td>3.999900e+10</td>\n",
       "      <td>12.700000</td>\n",
       "    </tr>\n",
       "  </tbody>\n",
       "</table>\n",
       "</div>"
      ],
      "text/plain": [
       "       mileage_in_km  num_of_doors  seating_capacity  year_of_manufacture   \n",
       "count   2.925600e+04  29256.000000      29256.000000         29256.000000  \\\n",
       "mean    4.197632e+05      4.533292          5.563748          2017.337298   \n",
       "std     3.569228e+07      0.566711          1.342304             5.302394   \n",
       "min     0.000000e+00      1.000000          2.000000          1990.000000   \n",
       "25%     0.000000e+00      4.000000          5.000000          2015.000000   \n",
       "50%     2.000000e+04      5.000000          5.000000          2019.000000   \n",
       "75%     6.000000e+04      5.000000          7.000000          2022.000000   \n",
       "max     4.294967e+09      7.000000         29.000000          2023.000000   \n",
       "\n",
       "              price  engine_capacity_in_litre  \n",
       "count  2.925600e+04              29256.000000  \n",
       "mean   1.083511e+09                  2.046331  \n",
       "std    1.814673e+09                  0.816242  \n",
       "min    1.000000e+06                  0.100000  \n",
       "25%    3.800000e+08                  1.500000  \n",
       "50%    5.890000e+08                  2.000000  \n",
       "75%    9.190000e+08                  2.400000  \n",
       "max    3.999900e+10                 12.700000  "
      ]
     },
     "execution_count": 234,
     "metadata": {},
     "output_type": "execute_result"
    }
   ],
   "source": [
    "df.describe()"
   ]
  },
  {
   "cell_type": "code",
   "execution_count": 235,
   "metadata": {},
   "outputs": [],
   "source": [
    "# Calculate the Z-score for 'price'\n",
    "df['price_zscore'] = (df['price'] - df['price'].mean()) / df['price'].std()\n",
    "\n",
    "# Set a threshold for outliers (Z-score > 3 or Z-score < -3)\n",
    "threshold = 3\n",
    "\n",
    "# Remove outliers based on the threshold\n",
    "df = df[abs(df['price_zscore']) <= threshold]\n",
    "\n",
    "# Drop the 'price_zscore' column\n",
    "df.drop('price_zscore', axis=1, inplace=True)"
   ]
  },
  {
   "cell_type": "code",
   "execution_count": 236,
   "metadata": {},
   "outputs": [],
   "source": [
    "# Export file\n",
    "df_cleaned = df.copy()\n",
    "#csv_file_path = r'C:\\Users\\Admin\\Desktop\\Car Price Prediction\\df_cleaned.csv'\n",
    "#df_cleaned.to_csv(csv_file_path, index=False)"
   ]
  },
  {
   "cell_type": "markdown",
   "metadata": {},
   "source": [
    "### Encode categorical values"
   ]
  },
  {
   "cell_type": "code",
   "execution_count": 237,
   "metadata": {},
   "outputs": [],
   "source": [
    "# Assuming df is your DataFrame and 'price' is the target column\n",
    "columns_to_encode = ['origin', 'condition', 'car_model', 'transmission', 'drive_type', 'brand', 'engine_type']\n",
    "\n",
    "# Create a copy of the DataFrame with only the columns to encode\n",
    "df_encoded = df[columns_to_encode].copy()\n",
    "\n",
    "# Create the RegularizedTargetEncoder object\n",
    "encoder = ce.TargetEncoder(cols=columns_to_encode, smoothing=0.2)\n",
    "\n",
    "# Fit and transform the encoder on the selected columns\n",
    "df_encoded = encoder.fit_transform(df_encoded, df['price'])\n",
    "\n",
    "# Replace the columns_to_encode in the original DataFrame with the encoded columns\n",
    "df[columns_to_encode] = df_encoded"
   ]
  },
  {
   "cell_type": "code",
   "execution_count": 238,
   "metadata": {},
   "outputs": [
    {
     "data": {
      "text/html": [
       "<div>\n",
       "<style scoped>\n",
       "    .dataframe tbody tr th:only-of-type {\n",
       "        vertical-align: middle;\n",
       "    }\n",
       "\n",
       "    .dataframe tbody tr th {\n",
       "        vertical-align: top;\n",
       "    }\n",
       "\n",
       "    .dataframe thead th {\n",
       "        text-align: right;\n",
       "    }\n",
       "</style>\n",
       "<table border=\"1\" class=\"dataframe\">\n",
       "  <thead>\n",
       "    <tr style=\"text-align: right;\">\n",
       "      <th></th>\n",
       "      <th>origin</th>\n",
       "      <th>condition</th>\n",
       "      <th>car_model</th>\n",
       "      <th>mileage_in_km</th>\n",
       "      <th>num_of_doors</th>\n",
       "      <th>seating_capacity</th>\n",
       "      <th>transmission</th>\n",
       "      <th>drive_type</th>\n",
       "      <th>brand</th>\n",
       "      <th>year_of_manufacture</th>\n",
       "      <th>price</th>\n",
       "      <th>engine_type</th>\n",
       "      <th>engine_capacity_in_litre</th>\n",
       "    </tr>\n",
       "  </thead>\n",
       "  <tbody>\n",
       "    <tr>\n",
       "      <th>0</th>\n",
       "      <td>6.711929e+08</td>\n",
       "      <td>1.114444e+09</td>\n",
       "      <td>3.554286e+08</td>\n",
       "      <td>0</td>\n",
       "      <td>2</td>\n",
       "      <td>2</td>\n",
       "      <td>3.157669e+08</td>\n",
       "      <td>9.981824e+08</td>\n",
       "      <td>3.899574e+08</td>\n",
       "      <td>2022</td>\n",
       "      <td>2.490000e+08</td>\n",
       "      <td>9.078188e+08</td>\n",
       "      <td>1.0</td>\n",
       "    </tr>\n",
       "    <tr>\n",
       "      <th>1</th>\n",
       "      <td>1.182562e+09</td>\n",
       "      <td>1.114444e+09</td>\n",
       "      <td>1.224524e+09</td>\n",
       "      <td>0</td>\n",
       "      <td>5</td>\n",
       "      <td>7</td>\n",
       "      <td>9.962457e+08</td>\n",
       "      <td>2.100573e+09</td>\n",
       "      <td>7.746398e+08</td>\n",
       "      <td>2022</td>\n",
       "      <td>4.286000e+09</td>\n",
       "      <td>9.078188e+08</td>\n",
       "      <td>3.4</td>\n",
       "    </tr>\n",
       "    <tr>\n",
       "      <th>2</th>\n",
       "      <td>6.711929e+08</td>\n",
       "      <td>1.114444e+09</td>\n",
       "      <td>5.716589e+08</td>\n",
       "      <td>0</td>\n",
       "      <td>5</td>\n",
       "      <td>8</td>\n",
       "      <td>9.962457e+08</td>\n",
       "      <td>9.981824e+08</td>\n",
       "      <td>7.746398e+08</td>\n",
       "      <td>2023</td>\n",
       "      <td>8.850000e+08</td>\n",
       "      <td>9.078188e+08</td>\n",
       "      <td>2.0</td>\n",
       "    </tr>\n",
       "    <tr>\n",
       "      <th>3</th>\n",
       "      <td>1.182562e+09</td>\n",
       "      <td>1.114444e+09</td>\n",
       "      <td>1.224524e+09</td>\n",
       "      <td>0</td>\n",
       "      <td>5</td>\n",
       "      <td>5</td>\n",
       "      <td>9.962457e+08</td>\n",
       "      <td>5.357166e+08</td>\n",
       "      <td>7.746398e+08</td>\n",
       "      <td>2023</td>\n",
       "      <td>7.540000e+08</td>\n",
       "      <td>9.078188e+08</td>\n",
       "      <td>1.8</td>\n",
       "    </tr>\n",
       "    <tr>\n",
       "      <th>4</th>\n",
       "      <td>6.711929e+08</td>\n",
       "      <td>1.114444e+09</td>\n",
       "      <td>5.716589e+08</td>\n",
       "      <td>0</td>\n",
       "      <td>5</td>\n",
       "      <td>8</td>\n",
       "      <td>9.962457e+08</td>\n",
       "      <td>9.981824e+08</td>\n",
       "      <td>7.746398e+08</td>\n",
       "      <td>2022</td>\n",
       "      <td>8.500000e+08</td>\n",
       "      <td>9.078188e+08</td>\n",
       "      <td>2.0</td>\n",
       "    </tr>\n",
       "  </tbody>\n",
       "</table>\n",
       "</div>"
      ],
      "text/plain": [
       "         origin     condition     car_model  mileage_in_km  num_of_doors   \n",
       "0  6.711929e+08  1.114444e+09  3.554286e+08              0             2  \\\n",
       "1  1.182562e+09  1.114444e+09  1.224524e+09              0             5   \n",
       "2  6.711929e+08  1.114444e+09  5.716589e+08              0             5   \n",
       "3  1.182562e+09  1.114444e+09  1.224524e+09              0             5   \n",
       "4  6.711929e+08  1.114444e+09  5.716589e+08              0             5   \n",
       "\n",
       "   seating_capacity  transmission    drive_type         brand   \n",
       "0                 2  3.157669e+08  9.981824e+08  3.899574e+08  \\\n",
       "1                 7  9.962457e+08  2.100573e+09  7.746398e+08   \n",
       "2                 8  9.962457e+08  9.981824e+08  7.746398e+08   \n",
       "3                 5  9.962457e+08  5.357166e+08  7.746398e+08   \n",
       "4                 8  9.962457e+08  9.981824e+08  7.746398e+08   \n",
       "\n",
       "   year_of_manufacture         price   engine_type  engine_capacity_in_litre  \n",
       "0                 2022  2.490000e+08  9.078188e+08                       1.0  \n",
       "1                 2022  4.286000e+09  9.078188e+08                       3.4  \n",
       "2                 2023  8.850000e+08  9.078188e+08                       2.0  \n",
       "3                 2023  7.540000e+08  9.078188e+08                       1.8  \n",
       "4                 2022  8.500000e+08  9.078188e+08                       2.0  "
      ]
     },
     "execution_count": 238,
     "metadata": {},
     "output_type": "execute_result"
    }
   ],
   "source": [
    "df.head()"
   ]
  },
  {
   "cell_type": "markdown",
   "metadata": {},
   "source": [
    "## Regression"
   ]
  },
  {
   "cell_type": "code",
   "execution_count": 239,
   "metadata": {},
   "outputs": [],
   "source": [
    "# Split the dataset into features and target variable\n",
    "X = df.drop(['price'], axis=1)\n",
    "y = df['price']"
   ]
  },
  {
   "cell_type": "markdown",
   "metadata": {},
   "source": [
    "### Linear Regression"
   ]
  },
  {
   "cell_type": "code",
   "execution_count": 240,
   "metadata": {},
   "outputs": [],
   "source": [
    "X_train, X_test, y_train, y_test = train_test_split(X, y, test_size=0.2, random_state=42)"
   ]
  },
  {
   "cell_type": "code",
   "execution_count": 241,
   "metadata": {},
   "outputs": [],
   "source": [
    "# Initialize the linear regression model\n",
    "linear_regression = LinearRegression()\n",
    "\n",
    "# Train the model\n",
    "linear_regression.fit(X_train, y_train)\n",
    "\n",
    "# Predict on the test set\n",
    "y_pred = linear_regression.predict(X_test)"
   ]
  },
  {
   "cell_type": "code",
   "execution_count": 242,
   "metadata": {},
   "outputs": [
    {
     "name": "stdout",
     "output_type": "stream",
     "text": [
      "Root Mean Squared Error (RMSE):  660387413.0166171\n",
      "Mean Absolute Error (MAE): 377460669.462497\n",
      "R-squared score:  0.556208587468319\n"
     ]
    }
   ],
   "source": [
    " # Evaluate the model using loss functions and R-squared\n",
    "mae = mean_absolute_error(y_test, y_pred)\n",
    "rmse = mean_squared_error(y_test, y_pred, squared=False)\n",
    "r2 = r2_score(y_test, y_pred)\n",
    " \n",
    "print(\"Root Mean Squared Error (RMSE): \", rmse)\n",
    "print(\"Mean Absolute Error (MAE):\", mae)\n",
    "print(\"R-squared score: \", r2)"
   ]
  },
  {
   "cell_type": "code",
   "execution_count": 243,
   "metadata": {},
   "outputs": [
    {
     "name": "stdout",
     "output_type": "stream",
     "text": [
      "Cross-Validation RMSE Scores:\n",
      "[8.16950129e+08 6.11325929e+08 5.97858096e+08 6.12849793e+08\n",
      " 5.86771488e+08]\n",
      "Mean CV RMSE: 645151086.9176848\n",
      "Standard Deviation of CV RMSE: 86425957.04237229\n"
     ]
    }
   ],
   "source": [
    "# Assess model generalization ability using k-fold cross-validation\n",
    "\n",
    "# Perform cross-validation with RMSE as the evaluation metric\n",
    "rmse_scores = np.sqrt(-cross_val_score(linear_regression, X, y, cv=5, scoring='neg_mean_squared_error'))\n",
    "\n",
    "# Calculate the mean and standard deviation of the RMSE scores\n",
    "mean_cv_rmse = np.mean(rmse_scores)\n",
    "std_cv_rmse = np.std(rmse_scores)\n",
    "\n",
    "print(\"Cross-Validation RMSE Scores:\")\n",
    "print(rmse_scores)\n",
    "print(\"Mean CV RMSE:\", mean_cv_rmse)\n",
    "print(\"Standard Deviation of CV RMSE:\", std_cv_rmse)"
   ]
  },
  {
   "cell_type": "markdown",
   "metadata": {},
   "source": [
    "### Gradient Boosting"
   ]
  },
  {
   "cell_type": "code",
   "execution_count": 244,
   "metadata": {},
   "outputs": [],
   "source": [
    "# Initialize and train the GradientBoostingRegressor\n",
    "gbr = GradientBoostingRegressor(n_estimators=100, random_state=42)\n",
    "gbr.fit(X_train, y_train)\n",
    "\n",
    "# Predict on the test set\n",
    "y_pred = gbr.predict(X_test)"
   ]
  },
  {
   "cell_type": "code",
   "execution_count": 245,
   "metadata": {},
   "outputs": [
    {
     "name": "stdout",
     "output_type": "stream",
     "text": [
      "Root Mean Squared Error (RMSE):  454281301.99455804\n",
      "Mean Absolute Error (MAE): 208831812.8183294\n",
      "R-squared score:  0.7899943187012304\n"
     ]
    }
   ],
   "source": [
    "# Evaluate the model using loss functions and R-squared\n",
    "mae = mean_absolute_error(y_test, y_pred)\n",
    "rmse = mean_squared_error(y_test, y_pred, squared=False)\n",
    "r2 = r2_score(y_test, y_pred)\n",
    " \n",
    "print(\"Root Mean Squared Error (RMSE): \", rmse)\n",
    "print(\"Mean Absolute Error (MAE):\", mae)\n",
    "print(\"R-squared score: \", r2)"
   ]
  },
  {
   "cell_type": "code",
   "execution_count": 246,
   "metadata": {},
   "outputs": [
    {
     "name": "stdout",
     "output_type": "stream",
     "text": [
      "Cross-Validation RMSE Scores:\n",
      "[6.02401682e+08 4.25156791e+08 4.05364476e+08 4.03368790e+08\n",
      " 4.08408559e+08]\n",
      "Mean CV RMSE: 448940059.40413904\n",
      "Standard Deviation of CV RMSE: 77116130.83950883\n"
     ]
    }
   ],
   "source": [
    "# Assess model generalization ability using k-fold cross-validation\n",
    "\n",
    "# Define the RMSE scorer\n",
    "scorer = make_scorer(mean_squared_error, squared=False)\n",
    "\n",
    "# Perform cross-validation with RMSE as the evaluation metric\n",
    "rmse_scores = cross_val_score(gbr, X, y, cv=5, scoring=scorer)\n",
    "\n",
    "# Calculate the mean and standard deviation of the RMSE scores\n",
    "mean_cv_rmse = np.mean(rmse_scores)\n",
    "std_cv_rmse = np.std(rmse_scores)\n",
    "\n",
    "print(\"Cross-Validation RMSE Scores:\")\n",
    "print(rmse_scores)\n",
    "print(\"Mean CV RMSE:\", mean_cv_rmse)\n",
    "print(\"Standard Deviation of CV RMSE:\", std_cv_rmse)"
   ]
  },
  {
   "cell_type": "markdown",
   "metadata": {},
   "source": [
    "### Random Forest"
   ]
  },
  {
   "cell_type": "code",
   "execution_count": 247,
   "metadata": {},
   "outputs": [],
   "source": [
    "# Initialize the Random Forest model\n",
    "random_forest = RandomForestRegressor(n_estimators=100, random_state=42)\n",
    "\n",
    "# Fit the model on the training data\n",
    "random_forest.fit(X, y)\n",
    "\n",
    "# Perform predictions\n",
    "predictions = random_forest.predict(X)"
   ]
  },
  {
   "cell_type": "code",
   "execution_count": 248,
   "metadata": {},
   "outputs": [
    {
     "name": "stdout",
     "output_type": "stream",
     "text": [
      "Root Mean Squared Error (RMSE):  254662044.12142408\n",
      "Mean Absolute Error (MAE): 83594345.14927103\n",
      "R-squared score:  0.9310075385495699\n"
     ]
    }
   ],
   "source": [
    "# Evaluate the model using loss functions and R-squared\n",
    "rmse = mean_squared_error(y, predictions, squared=False)\n",
    "mae = mean_absolute_error(y, predictions)\n",
    "r2 = r2_score(y, predictions)\n",
    "\n",
    "print(\"Root Mean Squared Error (RMSE): \", rmse)\n",
    "print(\"Mean Absolute Error (MAE):\", mae)\n",
    "print(\"R-squared score: \", r2)"
   ]
  },
  {
   "cell_type": "code",
   "execution_count": 249,
   "metadata": {},
   "outputs": [
    {
     "name": "stdout",
     "output_type": "stream",
     "text": [
      "Cross-Validation RMSE Scores:\n",
      "[5.65389788e+08 4.10357811e+08 3.82920230e+08 3.80005969e+08\n",
      " 4.06904223e+08]\n",
      "Mean CV RMSE: 429115604.4019784\n",
      "Standard Deviation of CV RMSE: 69226616.81355006\n"
     ]
    }
   ],
   "source": [
    "# Assess model's generalization ability using k-fold cross-validation\n",
    "\n",
    "# Define the RMSE scorer\n",
    "cv_scores = cross_val_score(random_forest, X, y, cv=5, scoring='neg_mean_squared_error')\n",
    "\n",
    "# Convert the negative MSE scores to positive\n",
    "cv_scores = -cv_scores\n",
    "\n",
    "# Calculate the RMSE from the MSE scores\n",
    "rmse_scores = np.sqrt(cv_scores)\n",
    "\n",
    "# Calculate the mean and standard deviation of the RMSE scores\n",
    "mean_cv_rmse = rmse_scores.mean()\n",
    "std_cv_rmse = rmse_scores.std()\n",
    "\n",
    "print(\"Cross-Validation RMSE Scores:\")\n",
    "print(rmse_scores)\n",
    "print(\"Mean CV RMSE:\", mean_cv_rmse)\n",
    "print(\"Standard Deviation of CV RMSE:\", std_cv_rmse)"
   ]
  },
  {
   "cell_type": "code",
   "execution_count": 250,
   "metadata": {},
   "outputs": [
    {
     "data": {
      "image/png": "[encoded data removed]",
      "text/plain": [
       "<Figure size 1000x600 with 1 Axes>"
      ]
     },
     "metadata": {},
     "output_type": "display_data"
    }
   ],
   "source": [
    "# Assess model's performance as the amount of training data increases using learning curves\n",
    "\n",
    "# Calculate the learning curves\n",
    "train_sizes, train_scores, val_scores = learning_curve(random_forest, X, y, cv=5, scoring='neg_mean_squared_error', train_sizes=np.linspace(0.1, 1.0, 10))\n",
    "\n",
    "# Convert the negative MSE scores to positive and calculate RMSE\n",
    "train_scores = np.sqrt(-train_scores)\n",
    "val_scores = np.sqrt(-val_scores)\n",
    "\n",
    "# Calculate the mean and standard deviation of the RMSE scores\n",
    "train_mean = np.mean(train_scores, axis=1)\n",
    "train_std = np.std(train_scores, axis=1)\n",
    "val_mean = np.mean(val_scores, axis=1)\n",
    "val_std = np.std(val_scores, axis=1)\n",
    "\n",
    "# Plot the learning curves\n",
    "plt.figure(figsize=(10, 6))\n",
    "plt.plot(train_sizes, train_mean, label='Training RMSE')\n",
    "plt.plot(train_sizes, val_mean, label='Validation RMSE')\n",
    "plt.fill_between(train_sizes, train_mean - train_std, train_mean + train_std, alpha=0.1)\n",
    "plt.fill_between(train_sizes, val_mean - val_std, val_mean + val_std, alpha=0.1)\n",
    "plt.xlabel('Training Set Size')\n",
    "plt.ylabel('RMSE')\n",
    "plt.title('Learning Curves')\n",
    "plt.legend(loc='best')\n",
    "plt.grid(True)\n",
    "plt.show()"
   ]
  },
  {
   "cell_type": "markdown",
   "metadata": {},
   "source": [
    "Random Forest algorithm is chosen for having better performance than the other two."
   ]
  },
  {
   "cell_type": "markdown",
   "metadata": {},
   "source": [
    "## Prediction"
   ]
  },
  {
   "cell_type": "code",
   "execution_count": 251,
   "metadata": {},
   "outputs": [
    {
     "data": {
      "application/vnd.jupyter.widget-view+json": {
       "model_id": "382944b137be4557a977dc63fdaf6eaf",
       "version_major": 2,
       "version_minor": 0
      },
      "text/plain": [
       "VBox(children=(Dropdown(description='Origin', options=('Domestic assembly', 'Imported'), value='Domestic assem…"
      ]
     },
     "metadata": {},
     "output_type": "display_data"
    },
    {
     "data": {
      "application/vnd.jupyter.widget-view+json": {
       "model_id": "b0b62de7c7bf4197992ade912ae684f4",
       "version_major": 2,
       "version_minor": 0
      },
      "text/plain": [
       "Output()"
      ]
     },
     "metadata": {},
     "output_type": "display_data"
    },
    {
     "data": {
      "application/vnd.jupyter.widget-view+json": {
       "model_id": "dd6dbfac4cc84ec58e83f4c4e74c65b5",
       "version_major": 2,
       "version_minor": 0
      },
      "text/plain": [
       "HTML(value='<style>.widget-label { min-width: 150px !important; text-align: left !important; }</style>')"
      ]
     },
     "metadata": {},
     "output_type": "display_data"
    }
   ],
   "source": [
    "# Define the existing values for categorical features\n",
    "existing_values = {\n",
    "    'origin': ['Domestic assembly', 'Imported'],\n",
    "    'condition': ['New car', 'Used car'],\n",
    "    'car_model': ['Convertible/Cabriolet', 'Coupe', 'Crossover', 'Hatchback', 'Pickup', 'Sedan', 'SUV', 'Truck', 'Van/Minivan', 'Wagon'],\n",
    "    'transmission': ['Automatic', 'Manual'],\n",
    "    'drive_type': ['RWD', 'FWD', '4WD', 'AWD'],\n",
    "    'brand': ['Acura', 'Audi', 'Baic', 'Bentley', 'BMW', 'Brilliance', 'Buick', 'BYD', 'Cadillac', 'Chery', 'Chevrolet', 'Chrysler', 'Citroen', 'Daewoo', 'Daihatsu', 'Dodge', 'Dongben', 'Ferrari', 'Fiat', 'Ford', 'Gaz', 'Geely', 'Hongqi', 'Honda', 'Hummer', 'Hyundai', 'Infiniti', 'Isuzu', 'Jaguar', 'JRD', 'Jeep', 'Kia', 'LandRover', 'Lexus', 'Lifan', 'Lamborghini', 'Luxgen', 'Maserati', 'Mazda', 'McLaren', 'Mercedes Benz', 'Mekong', 'MG', 'Mini', 'Mitsubishi', 'Nissan', 'Peugeot', 'Pontiac', 'Porsche', 'RAM', 'Renault', 'Rolls Royce', 'Samsung', 'Scion', 'Smart', 'Ssangyong', 'Subaru', 'Suzuki', 'SYM', 'Thaco', 'Tobe', 'Toyota', 'UAZ', 'Volkswagen', 'Volvo', 'VinFast', 'Zotye'],\n",
    "    'engine_type': ['Petrol', 'Diesel', 'Hybrid', 'Electric']\n",
    "}\n",
    "\n",
    "# Create dropdown widgets for categorical features\n",
    "dropdowns = {\n",
    "    'origin': widgets.Dropdown(options=existing_values['origin'], description='Origin'),\n",
    "    'condition': widgets.Dropdown(options=existing_values['condition'], description='Condition'),\n",
    "    'car_model': widgets.Dropdown(options=existing_values['car_model'], description='Car Model'),\n",
    "    'transmission': widgets.Dropdown(options=existing_values['transmission'], description='Transmission'),\n",
    "    'drive_type': widgets.Dropdown(options=existing_values['drive_type'], description='Drive Type'),\n",
    "    'brand': widgets.Dropdown(options=existing_values['brand'], description='Brand'),\n",
    "    'engine_type': widgets.Dropdown(options=existing_values['engine_type'], description='Engine Type')\n",
    "}\n",
    "\n",
    "# Create input widgets for numerical features\n",
    "doors_input = widgets.IntText(description='Number of Doors:')\n",
    "seating_capacity_input = widgets.IntText(description='Seating Capacity:')\n",
    "engine_capacity_input = widgets.FloatText(description='Engine Capacity (in litre):')\n",
    "year_input = widgets.IntText(description='Year of Manufacture:')\n",
    "mileage_input = widgets.IntText(description='Mileage (in km):')\n",
    "\n",
    "# Create a button widget for prediction\n",
    "button = widgets.Button(description=\"Predict Car Price\")\n",
    "\n",
    "# Create a container for input widgets\n",
    "input_container = widgets.VBox(list(dropdowns.values()) + [engine_capacity_input, doors_input, seating_capacity_input, year_input,\n",
    "                                                            mileage_input, button])\n",
    "\n",
    "# Create an output widget for displaying the predicted price\n",
    "output = widgets.Output()\n",
    "\n",
    "# Display the container and output widget\n",
    "display(input_container, output)\n",
    "\n",
    "# Extend the label space and align labels to the left using CSS style\n",
    "label_style = \"<style>.widget-label { min-width: 150px !important; text-align: left !important; }</style>\"\n",
    "display(widgets.HTML(label_style))\n",
    "\n",
    "# Create a function to handle button click event\n",
    "def predict_price(_):\n",
    "    # Prepare the input data based on the selected dropdown and input values\n",
    "    input_data = pd.DataFrame({\n",
    "        'origin': [dropdowns['origin'].value],\n",
    "        'condition': [dropdowns['condition'].value],\n",
    "        'car_model': [dropdowns['car_model'].value],\n",
    "        'mileage_in_km': [mileage_input.value],\n",
    "        'num_of_doors': [doors_input.value],\n",
    "        'seating_capacity': [seating_capacity_input.value],\n",
    "        'transmission': [dropdowns['transmission'].value],\n",
    "        'drive_type': [dropdowns['drive_type'].value],\n",
    "        'brand': [dropdowns['brand'].value],\n",
    "        'year_of_manufacture': [year_input.value],\n",
    "        'engine_type': [dropdowns['engine_type'].value],\n",
    "        'engine_capacity_in_litre': [engine_capacity_input.value]\n",
    "    })\n",
    "    \n",
    "    # Iterate through the categorical columns and replace the unencoded values with encoded values\n",
    "    for column in columns_to_encode:\n",
    "    # Get the dropdown value for the current column\n",
    "        dropdown_value = input_data[column].iloc[0]\n",
    "    # Find the first index of the matching value in 'df_cleaned[column]'\n",
    "        matching_index = df_cleaned[df_cleaned[column] == dropdown_value].index[0]\n",
    "    # Retrieve the corresponding encoded value from 'df'\n",
    "        encoded_value = df[column].iloc[matching_index]\n",
    "    # Replace the unencoded value with the encoded value\n",
    "        input_data[column] = encoded_value\n",
    "\n",
    "    # Make predictions using fitted random forest model\n",
    "    predictions = random_forest.predict(input_data)\n",
    "    \n",
    "    # Clear the previous output\n",
    "    with output:\n",
    "        output.clear_output(wait=True)\n",
    "        # Display the predicted price\n",
    "        print(\"Predicted Car Price:\", \"{:,.0f}\".format(predictions[0]), \"VND\")\n",
    "\n",
    "# Attach the button click event handler\n",
    "button.on_click(predict_price)\n",
    "\n",
    "# PLEASE CHOOSE AND FILL IN ALL OF THE FEATURES TO MAXIMIZE THE ACCURACY OF THE RESULT!"
   ]
  }
 ],
 "metadata": {
  "kernelspec": {
   "display_name": "Python 3",
   "language": "python",
   "name": "python3"
  },
  "language_info": {
   "codemirror_mode": {
    "name": "ipython",
    "version": 3
   },
   "file_extension": ".py",
   "mimetype": "text/x-python",
   "name": "python",
   "nbconvert_exporter": "python",
   "pygments_lexer": "ipython3",
   "version": "3.11.3"
  }
 },
 "nbformat": 4,
 "nbformat_minor": 2
}
